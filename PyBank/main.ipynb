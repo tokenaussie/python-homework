{
 "cells": [
  {
   "cell_type": "code",
   "execution_count": 28,
   "id": "metric-anger",
   "metadata": {},
   "outputs": [],
   "source": [
    "#Pseudocode\n",
    "#Provided an excel spreadsheet with 2 columns (Date and profit/losses)\n",
    "#Task is to create a python script\n",
    "#The total number of months included in the dataset.\n",
    "#The net total amount of Profit/Losses over the entire period.\n",
    "#The average of the changes in Profit/Losses over the entire period.\n",
    "#The greatest increase in profits (date and amount) over the entire period.\n",
    "#The greatest decrease in profits (date and amount) over the entire period."
   ]
  },
  {
   "cell_type": "code",
   "execution_count": 29,
   "id": "turkish-while",
   "metadata": {},
   "outputs": [],
   "source": [
    "# Import the pathlib and csv\n",
    "from pathlib import Path\n",
    "import csv"
   ]
  },
  {
   "cell_type": "code",
   "execution_count": 30,
   "id": "protected-secondary",
   "metadata": {},
   "outputs": [],
   "source": [
    "# Set the path\n",
    "budget_csv = Path(\"budget_data.csv\")"
   ]
  },
  {
   "cell_type": "code",
   "execution_count": 31,
   "id": "outdoor-snapshot",
   "metadata": {},
   "outputs": [],
   "source": [
    "# Initialise variables\n",
    "months = []\n",
    "profit = []"
   ]
  },
  {
   "cell_type": "code",
   "execution_count": 32,
   "id": "theoretical-nebraska",
   "metadata": {},
   "outputs": [],
   "source": [
    "# Open the csv file as an object\n",
    "# We use the next function to read each row of data after the header \n",
    "with open(budget_csv, 'r') as csvfile:\n",
    "    csvreader = csv.reader(csvfile, delimiter=\",\")\n",
    "    csvheader = next(csvreader)\n",
    "    \n",
    "    # Run the loops to extract information\n",
    "    for row in csvreader:\n",
    "        \n",
    "        # Months and profit are variables defined above, as a list.\n",
    "        # Row represents the value returned from each iteration of csvreader.\n",
    "        # 0 means that I am taking the first column of csvreader (date), and adding that to the months list.\n",
    "        # 1 means that I am taking the second column of csvreader (profit/losses), and adding that to the profit list.\n",
    "        months.append(row[0])\n",
    "        profit.append(row[1])\n",
    "        \n",
    "        # Total number of months included in data set\n",
    "        # Use len because you are counting the number of rows\n",
    "        total_months = len(months)"
   ]
  },
  {
   "cell_type": "code",
   "execution_count": 33,
   "id": "juvenile-layout",
   "metadata": {},
   "outputs": [],
   "source": [
    "# Define variables again for next step\n",
    "total_profit = 0\n",
    "change_profit = 0\n",
    "series_profit = []\n",
    "y=0\n",
    "z=1"
   ]
  },
  {
   "cell_type": "code",
   "execution_count": 34,
   "id": "rising-america",
   "metadata": {},
   "outputs": [],
   "source": [
    "# The net total amount of Profit/Losses over the entire period.\n",
    "# Remember profit is a list. You are saying that for x in the profit list, the total profit keeps adding onto itself.\n",
    "# Int is used to make x an integer.\n",
    "# change profit is taking each integer value of z minus integer value of y.\n",
    "# Series_profit is a list I defined. I am adding the change profit to the list to create a series profit.\n",
    "for x in profit:\n",
    "    total_profit = total_profit +int(x)\n",
    "    if z < total_months:\n",
    "        change_profit = int(profit[z]) - int(profit[y])\n",
    "        series_profit.append(change_profit)\n",
    "        y = y + 1\n",
    "        z = z + 1"
   ]
  },
  {
   "cell_type": "code",
   "execution_count": 35,
   "id": "physical-laser",
   "metadata": {},
   "outputs": [],
   "source": [
    "# The average of the changes in Profit/Losses over the entire period.\n",
    "# We are taking the sum of the series profit list, divided by the number of rows inside the list, rounded to 2 decimal places.\n",
    "average_change = round(sum(series_profit) / len(series_profit), 2)"
   ]
  },
  {
   "cell_type": "code",
   "execution_count": 36,
   "id": "distinguished-proxy",
   "metadata": {},
   "outputs": [],
   "source": [
    "# The greatest increase in profits (date and amount) over the entire period.\n",
    "# We are finding out what the max profit is, then using that to find out where in the index the date that occured.\n",
    "# Followed by +1 to get the month when that occurred.\n",
    "max_profit = max(series_profit)\n",
    "date_max_index = series_profit.index(max_profit)\n",
    "date_max = months[(date_max_index+1)]"
   ]
  },
  {
   "cell_type": "code",
   "execution_count": 37,
   "id": "comparable-triangle",
   "metadata": {},
   "outputs": [],
   "source": [
    "# The greatest decrease in profits (date and amount) over the entire period.\n",
    "# Exactly like the previous example.\n",
    "min_profit = min(series_profit)\n",
    "date_min_index = series_profit.index(min_profit)\n",
    "date_min = months[(date_min_index+1)]"
   ]
  },
  {
   "cell_type": "code",
   "execution_count": 38,
   "id": "white-grass",
   "metadata": {},
   "outputs": [
    {
     "name": "stdout",
     "output_type": "stream",
     "text": [
      "Financial Analysis\n",
      "----------------------------\n",
      "Total Months: 86\n",
      "Total: $38382578\n",
      "Average Change: $-2315.12\n",
      "Greatest Increase in Profits: Feb-2012 $1926159\n",
      "Greatest Decrease in Profits: Sep-2013 $-2196167\n"
     ]
    }
   ],
   "source": [
    "print(\"Financial Analysis\")\n",
    "print(\"----------------------------\")\n",
    "print(f\"Total Months: {total_months}\")\n",
    "print(f\"Total: ${total_profit}\")\n",
    "print(f\"Average Change: ${average_change}\")\n",
    "print(f\"Greatest Increase in Profits: {date_max} ${max_profit}\")\n",
    "print(f\"Greatest Decrease in Profits: {date_min} ${min_profit}\")"
   ]
  },
  {
   "cell_type": "code",
   "execution_count": null,
   "id": "chief-window",
   "metadata": {},
   "outputs": [],
   "source": []
  }
 ],
 "metadata": {
  "kernelspec": {
   "display_name": "Python 3",
   "language": "python",
   "name": "python3"
  },
  "language_info": {
   "codemirror_mode": {
    "name": "ipython",
    "version": 3
   },
   "file_extension": ".py",
   "mimetype": "text/x-python",
   "name": "python",
   "nbconvert_exporter": "python",
   "pygments_lexer": "ipython3",
   "version": "3.8.5"
  }
 },
 "nbformat": 4,
 "nbformat_minor": 5
}
